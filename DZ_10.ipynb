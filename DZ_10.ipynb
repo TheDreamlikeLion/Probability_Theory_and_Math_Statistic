{
 "cells": [
  {
   "cell_type": "markdown",
   "id": "943af236",
   "metadata": {},
   "source": [
    "Задание: Провести дисперсионный анализ для определения того, есть ли различия среднего роста среди взрослых футболистов, хоккеистов и штангистов. Даны значения роста в трех группах случайно выбранных спортсменов: Футболисты: 173, 175, 180, 178, 177, 185, 183, 182. Хоккеисты: 177, 179, 180, 188, 177, 172, 171, 184, 180. Штангисты: 172, 173, 169, 177, 166, 180, 178, 177, 172, 166, 170."
   ]
  },
  {
   "cell_type": "code",
   "execution_count": 19,
   "id": "514272cf",
   "metadata": {},
   "outputs": [],
   "source": [
    "import numpy as np\n",
    "from scipy import stats"
   ]
  },
  {
   "cell_type": "code",
   "execution_count": 20,
   "id": "ae0d5ece",
   "metadata": {},
   "outputs": [],
   "source": [
    "y1 = np.array([173, 175, 180, 178, 177, 185, 183, 182])\n",
    "y2 = np.array([177, 179, 180, 188, 177, 172, 171, 184, 180])\n",
    "y3 = np.array([172, 173, 169, 177, 166, 180, 178, 177, 172, 166, 170])"
   ]
  },
  {
   "cell_type": "code",
   "execution_count": 21,
   "id": "647457cd",
   "metadata": {},
   "outputs": [
    {
     "name": "stdout",
     "output_type": "stream",
     "text": [
      "BartlettResult(statistic=0.4640521043406442, pvalue=0.7929254656083131)\n"
     ]
    }
   ],
   "source": [
    "# Проверка на равенство дисперсий\n",
    "print(stats.bartlett(y1, y2, y3))"
   ]
  },
  {
   "cell_type": "code",
   "execution_count": 22,
   "id": "83dee4a3",
   "metadata": {},
   "outputs": [
    {
     "name": "stdout",
     "output_type": "stream",
     "text": [
      "ShapiroResult(statistic=0.9775082468986511, pvalue=0.9495404362678528)\n",
      "ShapiroResult(statistic=0.9579196572303772, pvalue=0.7763139009475708)\n",
      "ShapiroResult(statistic=0.9386808276176453, pvalue=0.5051165223121643)\n"
     ]
    }
   ],
   "source": [
    "# Проверкa на нормальность\n",
    "print(stats.shapiro(y1))\n",
    "print(stats.shapiro(y2))\n",
    "print(stats.shapiro(y3))"
   ]
  },
  {
   "cell_type": "code",
   "execution_count": 23,
   "id": "9b520d9b",
   "metadata": {},
   "outputs": [
    {
     "name": "stdout",
     "output_type": "stream",
     "text": [
      "F_onewayResult(statistic=5.500053450812596, pvalue=0.010482206918698693)\n"
     ]
    }
   ],
   "source": [
    "# Расчет с помощью функции\n",
    "f = stats.f_oneway(y1, y2, y3)\n",
    "print(f)"
   ]
  },
  {
   "cell_type": "markdown",
   "id": "0bae11b1",
   "metadata": {},
   "source": [
    "Вывод: Поскольку pvalue=0.01 < alpha=0.05 ,=> попадаем в область принятия альтернативной гипотезы. \n",
    "Можно утвержать об имеющихся различиях среднего роста среди взрослых футболистов, хоккеистов и штангистов."
   ]
  }
 ],
 "metadata": {
  "kernelspec": {
   "display_name": "Python 3 (ipykernel)",
   "language": "python",
   "name": "python3"
  },
  "language_info": {
   "codemirror_mode": {
    "name": "ipython",
    "version": 3
   },
   "file_extension": ".py",
   "mimetype": "text/x-python",
   "name": "python",
   "nbconvert_exporter": "python",
   "pygments_lexer": "ipython3",
   "version": "3.9.7"
  }
 },
 "nbformat": 4,
 "nbformat_minor": 5
}
