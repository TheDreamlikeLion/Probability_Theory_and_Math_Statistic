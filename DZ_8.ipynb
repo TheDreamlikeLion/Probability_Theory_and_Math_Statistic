{
 "cells": [
  {
   "cell_type": "code",
   "execution_count": 1,
   "id": "03b478dc",
   "metadata": {},
   "outputs": [],
   "source": [
    "import numpy as np\n",
    "import matplotlib.pyplot as plt\n",
    "import scipy.stats as stats\n",
    "import pandas as pd"
   ]
  },
  {
   "cell_type": "markdown",
   "id": "77064b5b",
   "metadata": {},
   "source": [
    "Задание 1:\n",
    "Даны значения величины заработной платы заемщиков банка (zp) и значения их поведенческого кредитного скоринга (ks):\n",
    "zp = [35, 45, 190, 200, 40, 70, 54, 150, 120, 110],\n",
    "ks = [401, 574, 874, 919, 459, 739, 653, 902, 746, 832]."
   ]
  },
  {
   "cell_type": "code",
   "execution_count": 28,
   "id": "0593c4a8",
   "metadata": {},
   "outputs": [
    {
     "name": "stdout",
     "output_type": "stream",
     "text": [
      "Значение ковариации, рассчитанное по формуле\n",
      "9157.84\n",
      "Значение ковариации, рассчитанное с помощью функции cov\n",
      "[[ 3494.64  9157.84]\n",
      " [ 9157.84 30468.89]]\n"
     ]
    },
    {
     "data": {
      "image/png": "[encoded data removed]",
      "text/plain": [
       "<Figure size 432x288 with 1 Axes>"
      ]
     },
     "metadata": {
      "needs_background": "light"
     },
     "output_type": "display_data"
    }
   ],
   "source": [
    "# Найдите ковариацию этих двух величин с помощью элементарных действий, а затем с помощью функции cov из numpy\n",
    "# Ковариация cov_xy = M(XY) − M(X) ∗ M(Y),\n",
    "zp = np.array([35, 45, 190, 200, 40, 70, 54, 150, 120, 110])\n",
    "ks = np.array([401, 574, 874, 919, 459, 739, 653, 902, 746, 832])\n",
    "plt.scatter(zp, ks)\n",
    "𝞼_zp = np.mean(zp)\n",
    "𝞼_ks = np.mean(ks)\n",
    "𝞼 = np.mean(zp*ks)\n",
    "cov = 𝞼 - (𝞼_zp * 𝞼_ks)\n",
    "print(f'Значение ковариации, рассчитанное по формуле')\n",
    "print(round(cov, 2))\n",
    "print(f'Значение ковариации, рассчитанное с помощью функции cov')\n",
    "print(np.cov(zp, ks, ddof=0))"
   ]
  },
  {
   "cell_type": "code",
   "execution_count": null,
   "id": "54d3298b",
   "metadata": {},
   "outputs": [],
   "source": [
    "# Найдите коэффициент корреляции Пирсона с помощью ковариации и среднеквадратичных отклонений двух признаков,\n",
    "# а затем с использованием функций из библиотек numpy и pandas.\n",
    "# Коэффициент корреляции Пирсона 𝑟_𝑥𝑦 = 𝑐𝑜𝑣_𝑥𝑦 /(𝞼_𝑥 ∗ 𝞼_𝑦)"
   ]
  },
  {
   "cell_type": "code",
   "execution_count": 60,
   "id": "05ad7d91",
   "metadata": {},
   "outputs": [
    {
     "name": "stdout",
     "output_type": "stream",
     "text": [
      "Коэффициент корреляции Пирсона, расcчитанный с помощью numpy\n",
      "[[1.         0.88749009]\n",
      " [0.88749009 1.        ]]\n"
     ]
    }
   ],
   "source": [
    "print(f'Коэффициент корреляции Пирсона, расcчитанный с помощью numpy')\n",
    "print(np.corrcoef(zp, ks))"
   ]
  },
  {
   "cell_type": "code",
   "execution_count": 62,
   "id": "5798ded3",
   "metadata": {},
   "outputs": [
    {
     "name": "stdout",
     "output_type": "stream",
     "text": [
      "Коэффициент корреляции Пирсона, расcчитанный с помощью pandas\n",
      "         zp       ks\n",
      "zp  1.00000  0.88749\n",
      "ks  0.88749  1.00000\n"
     ]
    }
   ],
   "source": [
    "df = pd.DataFrame(data={'zp':zp, 'ks':ks})\n",
    "print(f'Коэффициент корреляции Пирсона, расcчитанный с помощью pandas')\n",
    "print(df.corr())"
   ]
  },
  {
   "cell_type": "code",
   "execution_count": 36,
   "id": "c372377f",
   "metadata": {},
   "outputs": [
    {
     "name": "stdout",
     "output_type": "stream",
     "text": [
      "Несмещенная ковариация: [[ 3882.93333333 10175.37777778]\n",
      " [10175.37777778 33854.32222222]]\n",
      "Несмещенное стандартное отклонение zp: 62.31318747531162\n",
      "Несмещенное стандартное отклонение ks: 183.99544076477068\n",
      "Коэффициент корреляции Пирсона: 0.8874949075765891\n"
     ]
    }
   ],
   "source": [
    "print(f'Несмещенная ковариация:', np.cov(zp, ks, ddof=1)) # 10175.378\n",
    "print(f'Несмещенное стандартное отклонение zp:', np.std(zp, ddof = 1)) # 62.313\n",
    "print(f'Несмещенное стандартное отклонение ks:', np.std(ks, ddof = 1)) # 183.995\n",
    "print(f'Коэффициент корреляции Пирсона:', 10175.378 / (62.313*183.995))"
   ]
  },
  {
   "cell_type": "code",
   "execution_count": 37,
   "id": "80191f0f",
   "metadata": {},
   "outputs": [
    {
     "name": "stdout",
     "output_type": "stream",
     "text": [
      "Смещенная ковариация: [[ 3494.64  9157.84]\n",
      " [ 9157.84 30468.89]]\n",
      "Смещенное стандартное отклонение zp: 59.115480206118605\n",
      "Смещенное стандартное отклонение ks: 174.55340157098058\n",
      "Коэффициент корреляции Пирсона: 0.8874993431282905\n"
     ]
    }
   ],
   "source": [
    "print(f'Смещенная ковариация:', np.cov(zp, ks, ddof=0)) # 9157.84\n",
    "print(f'Смещенное стандартное отклонение zp:', np.std(zp, ddof = 0)) # 59.115\n",
    "print(f'Смещенное стандартное отклонение ks:', np.std(ks, ddof = 0)) # 174.553\n",
    "print(f'Коэффициент корреляции Пирсона:', 9157.84 / (59.115*174.553)) "
   ]
  },
  {
   "cell_type": "markdown",
   "id": "417c96bb",
   "metadata": {},
   "source": [
    "Задание 2:\n",
    "Измерены значения IQ выборки студентов, обучающихся в местных технических вузах:\n",
    "131, 125, 115, 122, 131, 115, 107, 99, 125, 111.\n",
    "Известно, что в генеральной совокупности IQ распределен нормально.\n",
    "Найдите доверительный интервал для математического ожидания с надежностью 0.95"
   ]
  },
  {
   "cell_type": "code",
   "execution_count": 45,
   "id": "9e2da1f5",
   "metadata": {},
   "outputs": [
    {
     "name": "stdout",
     "output_type": "stream",
     "text": [
      "[110.56; 125.64]\n"
     ]
    }
   ],
   "source": [
    "# Х ± 𝑡_(𝛼/2) ∗ 𝜎/√𝑛\n",
    "a = np.array([131, 125, 115, 122, 131, 115, 107, 99, 125, 111])\n",
    "n = len(a) # 10\n",
    "X = np.mean(a) # 118.1\n",
    "𝜎 = np.std(a, ddof=1) # 10.546\n",
    "t = stats.t.ppf(0.975, len(a)-1) # 2.262\n",
    "print(f'[{round(X-t*𝜎/np.sqrt(n), 2)}; {round(X+t*𝜎/np.sqrt(n), 2)}]')"
   ]
  },
  {
   "cell_type": "markdown",
   "id": "c956b38b",
   "metadata": {},
   "source": [
    "Задание 3:\n",
    "Известно, что рост футболистов в сборной распределен нормально\n",
    "с дисперсией генеральной совокупности, равной 25 кв.см. Объем выборки равен 27,\n",
    "среднее выборочное составляет 174.2. Найдите доверительный интервал для математического\n",
    "ожидания с надежностью 0.95."
   ]
  },
  {
   "cell_type": "code",
   "execution_count": 46,
   "id": "628423b1",
   "metadata": {},
   "outputs": [
    {
     "name": "stdout",
     "output_type": "stream",
     "text": [
      "[172.31; 176.09]\n"
     ]
    }
   ],
   "source": [
    "# Х ± 𝑍_(𝛼/2) ∗ 𝜎/√𝑛\n",
    "Х  = 174.2\n",
    "Z = 1.96 # для 𝛼 = 0.05/2 = 0.025\n",
    "𝜎 = 5 # √25 = 5\n",
    "𝑛 = 27\n",
    "print(f'[{round(Х - Z * 𝜎 / (n)**0.5, 2)}; {round(Х + Z * 𝜎 / (n)**0.5, 2)}]') "
   ]
  }
 ],
 "metadata": {
  "kernelspec": {
   "display_name": "Python 3 (ipykernel)",
   "language": "python",
   "name": "python3"
  },
  "language_info": {
   "codemirror_mode": {
    "name": "ipython",
    "version": 3
   },
   "file_extension": ".py",
   "mimetype": "text/x-python",
   "name": "python",
   "nbconvert_exporter": "python",
   "pygments_lexer": "ipython3",
   "version": "3.12.0"
  }
 },
 "nbformat": 4,
 "nbformat_minor": 5
}
