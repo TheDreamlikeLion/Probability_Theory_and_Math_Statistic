{
 "cells": [
  {
   "cell_type": "markdown",
   "id": "d3fb19e7",
   "metadata": {},
   "source": [
    "Задание 1:\n",
    "Даны значения величины заработной платы заемщиков банка (zp) и значения их поведенческого кредитного скоринга (ks): \n",
    "zp = 35, 45, 190, 200, 40, 70, 54, 150, 120, 110, \n",
    "ks = 401, 574, 874, 919, 459, 739, 653, 902, 746, 832. \n",
    "Используя математические операции, посчитать коэффициенты линейной регрессии, приняв за X заработную плату (то есть, zp - признак), а за y - значения скорингового балла (то есть, ks - целевая переменная). Произвести расчет как с использованием intercept, так и без."
   ]
  },
  {
   "cell_type": "code",
   "execution_count": 1,
   "id": "f7f3847a",
   "metadata": {},
   "outputs": [],
   "source": [
    "import numpy as np\n",
    "import matplotlib.pyplot as plt"
   ]
  },
  {
   "cell_type": "code",
   "execution_count": 99,
   "id": "9097e544",
   "metadata": {},
   "outputs": [
    {
     "name": "stdout",
     "output_type": "stream",
     "text": [
      "Расчет с использованием математических формул с intercept \n",
      "ŷ = b0 + b1 ∗ x\n",
      "\n",
      "Коэффициент b1: 2.62\n",
      "Коэффициент b0: 444.18\n",
      "Уравнение линейной регрессии: ŷ = 444.18 + 2.62 * x\n",
      "Функция потерь: mse = 6470.41\n"
     ]
    },
    {
     "data": {
      "text/plain": [
       "<matplotlib.legend.Legend at 0x27967aa4550>"
      ]
     },
     "execution_count": 99,
     "metadata": {},
     "output_type": "execute_result"
    },
    {
     "data": {
      "image/png": "[encoded data removed]",
      "text/plain": [
       "<Figure size 432x288 with 1 Axes>"
      ]
     },
     "metadata": {
      "needs_background": "light"
     },
     "output_type": "display_data"
    }
   ],
   "source": [
    "x = np.array([35, 45, 190, 200, 40, 70, 54, 150, 120, 110])\n",
    "y = np.array([401, 574, 874, 919, 459, 739, 653, 902, 746, 832])\n",
    "\n",
    "print(f'Расчет с использованием математических формул с intercept \\nŷ = b0 + b1 ∗ x')\n",
    "print()\n",
    "\n",
    "n = len(x)\n",
    "\n",
    "b1 = (np.mean(x*y) - np.mean(x) * np.mean(y)) / (np.mean(x**2) - np.mean(x)**2)\n",
    "print(f'Коэффициент b1: {round(b1, 2)}')\n",
    "b0 = np.mean(y) - b1*np.mean(x)\n",
    "print(f'Коэффициент b0: {round(b0, 2)}')\n",
    "\n",
    "y_pred = b0 + b1 * x\n",
    "print(f'Уравнение линейной регрессии: ŷ = {round(b0, 2)} + {round(b1, 2)} * x')\n",
    "\n",
    "print(f'Функция потерь: mse = {round(((y - y_pred)**2).sum() / n, 2)}')\n",
    "\n",
    "plt.scatter(x, y, label = 'x, y')\n",
    "plt.plot(x, y_pred, 'g', label = 'ŷ = 444.18 + 2.62 * x')\n",
    "plt.xlabel('zp')\n",
    "plt.ylabel('ks')\n",
    "plt.legend()"
   ]
  },
  {
   "cell_type": "code",
   "execution_count": 100,
   "id": "7e410c4e",
   "metadata": {},
   "outputs": [
    {
     "name": "stdout",
     "output_type": "stream",
     "text": [
      "Расчет матричным методом без intercept \n",
      "ŷ = b1 ∗ x\n",
      "\n",
      "Коэффициент b1: 5.89\n",
      "Уравнение линейной регрессии: ŷ = 5.89 * x\n",
      "Функция потерь: mse = 56516.8584157194\n"
     ]
    },
    {
     "data": {
      "text/plain": [
       "<matplotlib.legend.Legend at 0x27967b17880>"
      ]
     },
     "execution_count": 100,
     "metadata": {},
     "output_type": "execute_result"
    },
    {
     "data": {
      "image/png": "[encoded data removed]",
      "text/plain": [
       "<Figure size 432x288 with 1 Axes>"
      ]
     },
     "metadata": {
      "needs_background": "light"
     },
     "output_type": "display_data"
    }
   ],
   "source": [
    "x = np.array([35, 45, 190, 200, 40, 70, 54, 150, 120, 110])\n",
    "y = np.array([401, 574, 874, 919, 459, 739, 653, 902, 746, 832])\n",
    "print(f'Расчет матричным методом без intercept \\nŷ = b1 ∗ x')\n",
    "print()\n",
    "\n",
    "x1 = x.reshape((10, 1))\n",
    "# print(x)\n",
    "y1 = y.reshape((10, 1))\n",
    "# print(y)\n",
    "\n",
    "B = np.dot(np.linalg.inv(np.dot(x1.T,x1)), x1.T @ y1)\n",
    "print(f'Коэффициент b1: {round(B[0,0], 2)}')\n",
    "\n",
    "y_pred = B[0,0] * x\n",
    "print(f'Уравнение линейной регрессии: ŷ = {round(B[0,0], 2)} * x')\n",
    "\n",
    "print(f'Функция потерь: mse = {((y - y_pred)**2).sum() / n}')\n",
    "\n",
    "plt.scatter(x1, y1, label = 'x, y')\n",
    "plt.plot(x1, y_pred, 'r', label = 'ŷ = 5.89 * x')\n",
    "plt.xlabel('zp')\n",
    "plt.ylabel('ks')\n",
    "plt.legend()"
   ]
  },
  {
   "cell_type": "markdown",
   "id": "d8fd2104",
   "metadata": {},
   "source": [
    "Задание 2:\n",
    "Посчитать коэффициент линейной регрессии при заработной плате (zp), используя градиентный спуск (без intercept)."
   ]
  },
  {
   "cell_type": "code",
   "execution_count": 101,
   "id": "6a958b63",
   "metadata": {},
   "outputs": [
    {
     "name": "stdout",
     "output_type": "stream",
     "text": [
      "Расчет методом градиентного спуска без intercept \n",
      "ŷ = b1 ∗ x\n",
      "\n",
      "Iteration = 0, b1 = 0.25952808, mse = 493237.7212546963\n",
      "Iteration = 100, b1 = 5.54537842245223, mse = 58151.31823171113\n",
      "Iteration = 200, b1 = 5.868748638669329, mse = 56522.97550129376\n",
      "Iteration = 300, b1 = 5.888531320728348, mse = 56516.88130936019\n",
      "Iteration = 400, b1 = 5.8897415574471985, mse = 56516.85850140053\n",
      "Iteration = 500, b1 = 5.889815595583751, mse = 56516.858416040064\n",
      "Iteration = 600, b1 = 5.889820124983314, mse = 56516.85841572062\n",
      "Iteration = 700, b1 = 5.889820402076462, mse = 56516.85841571941\n",
      "Iteration = 800, b1 = 5.88982041902807, mse = 56516.8584157194\n",
      "Iteration = 900, b1 = 5.889820420065112, mse = 56516.85841571941\n",
      "Iteration = 1000, b1 = 5.8898204201285544, mse = 56516.85841571941\n",
      "\n",
      "Функция потерь при b1 = 5.89: mse = 56516.86\n",
      "Коэффициент b1: 5.89\n",
      "Уравнение линейной регрессии: ŷ = 5.89 * x\n"
     ]
    }
   ],
   "source": [
    "# Функция потерь 𝑚𝑠𝑒 = (∑(𝑦 − 𝑦_𝑝𝑟𝑒𝑑)^2) / 𝑛\n",
    "x = np.array([35, 45, 190, 200, 40, 70, 54, 150, 120, 110])\n",
    "y = np.array([401, 574, 874, 919, 459, 739, 653, 902, 746, 832])\n",
    "print(f'Расчет методом градиентного спуска без intercept \\nŷ = b1 ∗ x')\n",
    "print()\n",
    "\n",
    "def mse_(B1, y=y, x=x, n=10):\n",
    "    return ((B1 * x - y)**2).sum() / n\n",
    "\n",
    "alpha = 1e-6\n",
    "b1 = 0.1\n",
    "n=10\n",
    "\n",
    "for i in range(1001):\n",
    "    b1 -= alpha * (2/n) * np.sum((b1*x - y) * x)\n",
    "    if i%100 == 0:\n",
    "        print(f'Iteration = {i}, b1 = {b1}, mse = {mse_(b1)}')\n",
    "print()\n",
    "\n",
    "print(f'Функция потерь при b1 = {round(b1, 2)}: mse = {round(mse_(b1), 2)}')\n",
    "\n",
    "print(f'Коэффициент b1: {round(b1, 2)}')\n",
    "\n",
    "print(f'Уравнение линейной регрессии: ŷ = {round(b1, 2)} * x')"
   ]
  },
  {
   "cell_type": "markdown",
   "id": "303e77b3",
   "metadata": {},
   "source": [
    "Задание 3:\n",
    "Произвести вычисления как в пункте 2, но с вычислением intercept. Учесть, что изменение коэффициентов должно производиться на каждом шаге одновременно (то есть изменение одного коэффициента не должно влиять на изменение другого во время одной итерации)."
   ]
  },
  {
   "cell_type": "code",
   "execution_count": 102,
   "id": "2c69e278",
   "metadata": {},
   "outputs": [
    {
     "name": "stdout",
     "output_type": "stream",
     "text": [
      "Расчет методом градиентного спуска с intercept \n",
      "ŷ = b0 + b1 ∗ x\n",
      "\n",
      "Iteration = 0, b0 = 1.01215, b1 = 2.3452493598000004, mse = 228651.2096033184\n",
      "Iteration = 500000, b0 = 409.107994278479, b1 = 2.878663590048586, mse = 6782.386584565905\n",
      "Iteration = 1000000, b0 = 441.40202104473354, b1 = 2.6409664808413247, mse = 6472.368052982428\n",
      "Iteration = 1500000, b0 = 443.95772141437726, b1 = 2.6221554916060335, mse = 6470.426437954922\n",
      "Iteration = 2000000, b0 = 444.159975671081, b1 = 2.6206668184067663, mse = 6470.414277814376\n",
      "Iteration = 2500000, b0 = 444.1759817666486, b1 = 2.6205490070643265, mse = 6470.41420165663\n",
      "\n",
      "Уравнение линейной регрессии: ŷ = 444.18 + 2.62 * x\n",
      "Функция потерь: mse = 6470.41\n"
     ]
    },
    {
     "data": {
      "text/plain": [
       "<matplotlib.legend.Legend at 0x27967bb0370>"
      ]
     },
     "execution_count": 102,
     "metadata": {},
     "output_type": "execute_result"
    },
    {
     "data": {
      "image/png": "[encoded data removed]",
      "text/plain": [
       "<Figure size 432x288 with 1 Axes>"
      ]
     },
     "metadata": {
      "needs_background": "light"
     },
     "output_type": "display_data"
    }
   ],
   "source": [
    "x = np.array([35, 45, 190, 200, 40, 70, 54, 150, 120, 110])\n",
    "y = np.array([401, 574, 874, 919, 459, 739, 653, 902, 746, 832])\n",
    "\n",
    "print(f'Расчет методом градиентного спуска с intercept \\nŷ = b0 + b1 ∗ x')\n",
    "print()\n",
    "\n",
    "def mse_(B0, B1, y=y, x=x, n=10):\n",
    "    return ((B0 + B1*x - y)**2).sum() / n\n",
    "\n",
    "alpha = 1e-5\n",
    "b0 = 1\n",
    "b1 = 1\n",
    "n=10\n",
    "\n",
    "for i in range(3000000):\n",
    "    b0 -= alpha * (2/n) * np.sum(b0 + b1*x - y)\n",
    "    b1 -= alpha * (2/n) * np.sum((b0 + b1*x - y)*x)\n",
    "    if i%500000 == 0:\n",
    "        print(f'Iteration = {i}, b0 = {b0}, b1 = {b1}, mse = {mse_(b0, b1)}')\n",
    "print()\n",
    "\n",
    "y_pred = b0 + b1 * x\n",
    "print(f'Уравнение линейной регрессии: ŷ = {round(b0, 2)} + {round(b1, 2)} * x')\n",
    "\n",
    "print(f'Функция потерь: mse = {round(mse_(b0, b1), 2)}')\n",
    "\n",
    "plt.scatter(x, y, label = 'x, y')\n",
    "plt.plot(x, y_pred, 'g', label = 'ŷ = 444.18 + 2.62 * x')\n",
    "plt.xlabel('zp')\n",
    "plt.ylabel('ks')\n",
    "plt.legend()"
   ]
  },
  {
   "cell_type": "code",
   "execution_count": 103,
   "id": "0984b1b9",
   "metadata": {},
   "outputs": [
    {
     "name": "stdout",
     "output_type": "stream",
     "text": [
      "Уравнение линейной регрессии с intercept: ŷ = 444.18 + 2.62 * x\n",
      "Уравнение линейной регрессии без intercept: ŷ = 5.89 * x\n"
     ]
    },
    {
     "data": {
      "text/plain": [
       "<matplotlib.legend.Legend at 0x27967af4ee0>"
      ]
     },
     "execution_count": 103,
     "metadata": {},
     "output_type": "execute_result"
    },
    {
     "data": {
      "image/png": "[encoded data removed]",
      "text/plain": [
       "<Figure size 432x288 with 1 Axes>"
      ]
     },
     "metadata": {
      "needs_background": "light"
     },
     "output_type": "display_data"
    }
   ],
   "source": [
    "from sklearn.linear_model import LinearRegression\n",
    "\n",
    "x = np.array([35, 45, 190, 200, 40, 70, 54, 150, 120, 110])\n",
    "y = np.array([401, 574, 874, 919, 459, 739, 653, 902, 746, 832])\n",
    "\n",
    "x = x.reshape(-1, 1)\n",
    "\n",
    "model = LinearRegression()\n",
    "regres = model.fit(x, y)\n",
    "b0 = regres.intercept_\n",
    "b1 = regres.coef_[0]\n",
    "y_pred = model.predict(x)\n",
    "print(f'Уравнение линейной регрессии с intercept: ŷ = {round(b0, 2)} + {round(b1, 2)} * x')\n",
    "\n",
    "model_1 = LinearRegression(fit_intercept=False)\n",
    "regres = model_1.fit(x, y)\n",
    "b1 = regres.coef_[0]\n",
    "y_pred_1 = model_1.predict(x)\n",
    "print(f'Уравнение линейной регрессии без intercept: ŷ = {round(b1, 2)} * x')\n",
    "\n",
    "plt.scatter(x, y, label = 'x, y')\n",
    "plt.plot(x, y_pred_0, 'g', label = 'ŷ = 444.18 + 2.62 * x')\n",
    "plt.plot(x, y_pred_1, 'r', label = 'ŷ = 5.89 * x')\n",
    "plt.xlabel('zp')\n",
    "plt.ylabel('ks')\n",
    "plt.legend()"
   ]
  }
 ],
 "metadata": {
  "kernelspec": {
   "display_name": "Python 3 (ipykernel)",
   "language": "python",
   "name": "python3"
  },
  "language_info": {
   "codemirror_mode": {
    "name": "ipython",
    "version": 3
   },
   "file_extension": ".py",
   "mimetype": "text/x-python",
   "name": "python",
   "nbconvert_exporter": "python",
   "pygments_lexer": "ipython3",
   "version": "3.9.7"
  }
 },
 "nbformat": 4,
 "nbformat_minor": 5
}
